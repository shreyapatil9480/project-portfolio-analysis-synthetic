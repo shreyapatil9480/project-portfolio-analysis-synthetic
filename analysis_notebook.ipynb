{
 "cells": [
  {
   "cell_type": "markdown",
   "id": "9e067bec",
   "metadata": {},
   "source": [
    "\n",
    "# Project Portfolio Analysis\n",
    "\n",
    "This notebook demonstrates an end-to-end analysis of a synthetic project portfolio dataset. The dataset contains information about projects, including dates, budgets, costs, team sizes, complexity, risk levels, status, success outcomes, and customer satisfaction scores. The analysis includes exploratory data visualizations and predictive modeling to assess factors influencing project success.\n",
    "\n",
    "You can run this notebook as-is. It uses only publicly available Python packages listed in `requirements.txt`. To reproduce the results, ensure you have the dataset file `project_portfolio_dataset.csv` in the same directory.\n"
   ]
  },
  {
   "cell_type": "code",
   "execution_count": null,
   "id": "f7e2880d",
   "metadata": {},
   "outputs": [],
   "source": [
    "\n",
    "import pandas as pd\n",
    "import numpy as np\n",
    "import matplotlib.pyplot as plt\n",
    "import seaborn as sns\n",
    "from sklearn.model_selection import train_test_split\n",
    "from sklearn.preprocessing import StandardScaler\n",
    "from sklearn.linear_model import LogisticRegression\n",
    "from sklearn.metrics import classification_report, confusion_matrix\n",
    "\n",
    "# Configure plots\n",
    "sns.set(style='whitegrid', context='notebook')\n",
    "\n",
    "# Load dataset\n",
    "file_path = 'project_portfolio_dataset.csv'\n",
    "df = pd.read_csv(file_path, parse_dates=['start_date','planned_end_date','actual_end_date'])\n",
    "\n",
    "# Display first few rows\n",
    "df.head()\n"
   ]
  },
  {
   "cell_type": "markdown",
   "id": "8566f46a",
   "metadata": {},
   "source": [
    "\n",
    "## Dataset Overview\n",
    "\n",
    "The dataset contains the following columns:\n",
    "\n",
    "| Column | Description |\n",
    "|---|---|\n",
    "| `project_id` | Unique identifier for each project | \n",
    "| `start_date` | Date the project started | \n",
    "| `planned_end_date` | Planned project completion date | \n",
    "| `actual_end_date` | Actual project completion date | \n",
    "| `planned_duration_days` | Planned duration in days | \n",
    "| `actual_duration_days` | Actual duration in days | \n",
    "| `budget_usd` | Planned budget in USD | \n",
    "| `actual_cost_usd` | Actual cost in USD | \n",
    "| `team_size` | Number of team members on the project | \n",
    "| `complexity` | Project complexity score (1–10) | \n",
    "| `risk_level` | Project risk level (1–5) | \n",
    "| `status` | Project status (Completed, Ongoing, Cancelled) | \n",
    "| `success` | Binary indicator of project success (1=successful, 0=not successful) | \n",
    "| `satisfaction_score` | Customer satisfaction score (1–5) |\n"
   ]
  },
  {
   "cell_type": "code",
   "execution_count": null,
   "id": "8f18417a",
   "metadata": {},
   "outputs": [],
   "source": [
    "\n",
    "# Summary statistics\n",
    "summary = df.describe(include='all').T\n",
    "summary\n"
   ]
  },
  {
   "cell_type": "code",
   "execution_count": null,
   "id": "31534154",
   "metadata": {},
   "outputs": [],
   "source": [
    "\n",
    "# Distribution of project budgets\n",
    "plt.figure(figsize=(8,4))\n",
    "sns.histplot(df['budget_usd']/1000, bins=30, kde=True, color='skyblue')\n",
    "plt.title('Distribution of Project Budgets (thousand USD)')\n",
    "plt.xlabel('Budget (thousand USD)')\n",
    "plt.ylabel('Frequency')\n",
    "plt.show()\n",
    "\n",
    "# Project status counts\n",
    "plt.figure(figsize=(6,4))\n",
    "sns.countplot(data=df, x='status', palette='pastel')\n",
    "plt.title('Project Status Counts')\n",
    "plt.xlabel('Status')\n",
    "plt.ylabel('Count')\n",
    "plt.show()\n",
    "\n",
    "# Success vs Complexity\n",
    "plt.figure(figsize=(7,4))\n",
    "sns.boxplot(data=df, x='success', y='complexity', palette='viridis')\n",
    "plt.title('Complexity vs Success')\n",
    "plt.xlabel('Success')\n",
    "plt.ylabel('Complexity')\n",
    "plt.show()\n"
   ]
  },
  {
   "cell_type": "code",
   "execution_count": null,
   "id": "5d708bb5",
   "metadata": {},
   "outputs": [],
   "source": [
    "\n",
    "# Correlation matrix for numerical features\n",
    "numeric_cols = ['planned_duration_days', 'actual_duration_days', 'budget_usd', 'actual_cost_usd', 'team_size', 'complexity', 'risk_level', 'satisfaction_score']\n",
    "corr = df[numeric_cols].corr()\n",
    "\n",
    "plt.figure(figsize=(8,6))\n",
    "sns.heatmap(corr, annot=True, cmap='coolwarm', fmt='.2f', linewidths=.5)\n",
    "plt.title('Correlation Matrix')\n",
    "plt.show()\n"
   ]
  },
  {
   "cell_type": "markdown",
   "id": "e50fe899",
   "metadata": {},
   "source": [
    "\n",
    "## Predictive Modeling\n",
    "\n",
    "We will build a logistic regression model to predict project success based on numerical features. The target variable is `success`, and the feature set includes planned and actual durations, budgets, costs, team size, complexity, risk level, and satisfaction score.\n"
   ]
  },
  {
   "cell_type": "code",
   "execution_count": null,
   "id": "7c997e7d",
   "metadata": {},
   "outputs": [],
   "source": [
    "\n",
    "# Select features and target\n",
    "features = ['planned_duration_days','actual_duration_days','budget_usd','actual_cost_usd','team_size','complexity','risk_level','satisfaction_score']\n",
    "X = df[features]\n",
    "y = df['success']\n",
    "\n",
    "# Train-test split\n",
    "X_train, X_test, y_train, y_test = train_test_split(X, y, test_size=0.3, random_state=42, stratify=y)\n",
    "\n",
    "# Standardize features\n",
    "scaler = StandardScaler()\n",
    "X_train_scaled = scaler.fit_transform(X_train)\n",
    "X_test_scaled = scaler.transform(X_test)\n",
    "\n",
    "# Build logistic regression model\n",
    "log_reg = LogisticRegression(max_iter=1000)\n",
    "log_reg.fit(X_train_scaled, y_train)\n",
    "\n",
    "# Predict on test set\n",
    "y_pred = log_reg.predict(X_test_scaled)\n",
    "\n",
    "# Evaluation\n",
    "print(\"Classification Report:\n",
    "\", classification_report(y_test, y_pred))\n",
    "print(\"Confusion Matrix:\n",
    "\", confusion_matrix(y_test, y_pred))\n"
   ]
  },
  {
   "cell_type": "markdown",
   "id": "e7e001d8",
   "metadata": {},
   "source": [
    "\n",
    "## Conclusion\n",
    "\n",
    "This analysis showcased a synthetic project portfolio dataset designed for aspiring business analysts, program managers, and data analysts. Through exploratory data visualizations, we explored budget distributions, project statuses, and the relationship between project complexity and success. We also examined correlations among numerical features.\n",
    "\n",
    "A logistic regression model was built to predict project success, demonstrating a straightforward predictive modeling workflow. This project highlights data preparation, visualization, and modeling techniques relevant to roles in business analysis and program management. Feel free to extend the analysis by experimenting with different models (e.g., random forests, gradient boosting) or additional feature engineering.\n"
   ]
  }
 ],
 "metadata": {},
 "nbformat": 4,
 "nbformat_minor": 5
}
